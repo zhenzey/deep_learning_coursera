{
 "cells": [
  {
   "cell_type": "markdown",
   "metadata": {},
   "source": [
    "# Face Recognition for the Happy House\n",
    "\n",
    "Welcome to the first assignment of week 4! Here you will build a face recognition system. Many of the ideas presented here are from [FaceNet](https://arxiv.org/pdf/1503.03832.pdf). In lecture, we also talked about [DeepFace](https://research.fb.com/wp-content/uploads/2016/11/deepface-closing-the-gap-to-human-level-performance-in-face-verification.pdf). \n",
    "\n",
    "Face recognition problems commonly fall into two categories: \n",
    "\n",
    "- **Face Verification** - \"is this the claimed person?\". For example, at some airports, you can pass through customs by letting a system scan your passport and then verifying that you (the person carrying the passport) are the correct person. A mobile phone that unlocks using your face is also using face verification. This is a 1:1 matching problem. \n",
    "- **Face Recognition** - \"who is this person?\". For example, the video lecture showed a face recognition video (https://www.youtube.com/watch?v=wr4rx0Spihs) of Baidu employees entering the office without needing to otherwise identify themselves. This is a 1:K matching problem. \n",
    "\n",
    "FaceNet learns a neural network that encodes a face image into a vector of 128 numbers. By comparing two such vectors, you can then determine if two pictures are of the same person.\n",
    "    \n",
    "**In this assignment, you will:**\n",
    "- Implement the triplet loss function\n",
    "- Use a pretrained model to map face images into 128-dimensional encodings\n",
    "- Use these encodings to perform face verification and face recognition\n",
    "\n",
    "In this exercise, we will be using a pre-trained model which represents ConvNet activations using a \"channels first\" convention, as opposed to the \"channels last\" convention used in lecture and previous programming assignments. In other words, a batch of images will be of shape $(m, n_C, n_H, n_W)$ instead of $(m, n_H, n_W, n_C)$. Both of these conventions have a reasonable amount of traction among open-source implementations; there isn't a uniform standard yet within the deep learning community. \n",
    "\n",
    "Let's load the required packages. \n"
   ]
  },
  {
   "cell_type": "code",
   "execution_count": 3,
   "metadata": {},
   "outputs": [
    {
     "name": "stdout",
     "output_type": "stream",
     "text": [
      "The autoreload extension is already loaded. To reload it, use:\n",
      "  %reload_ext autoreload\n"
     ]
    }
   ],
   "source": [
    "from keras.models import Sequential\n",
    "from keras.layers import Conv2D, ZeroPadding2D, Activation, Input, concatenate\n",
    "from keras.models import Model\n",
    "from keras.layers.normalization import BatchNormalization\n",
    "from keras.layers.pooling import MaxPooling2D, AveragePooling2D\n",
    "from keras.layers.merge import Concatenate\n",
    "from keras.layers.core import Lambda, Flatten, Dense\n",
    "from keras.initializers import glorot_uniform\n",
    "from keras.engine.topology import Layer\n",
    "from keras import backend as K\n",
    "K.set_image_data_format('channels_first')\n",
    "import cv2\n",
    "import os\n",
    "import sys\n",
    "import numpy as np\n",
    "from numpy import genfromtxt\n",
    "import pandas as pd\n",
    "import tensorflow as tf\n",
    "from fr_utils import *\n",
    "from inception_blocks_v2 import *\n",
    "\n",
    "%matplotlib inline\n",
    "%load_ext autoreload\n",
    "%autoreload 2\n",
    "\n",
    "np.set_printoptions(threshold=sys.maxsize)"
   ]
  },
  {
   "cell_type": "markdown",
   "metadata": {},
   "source": [
    "## 0 - Naive Face Verification\n",
    "\n",
    "In Face Verification, you're given two images and you have to tell if they are of the same person. The simplest way to do this is to compare the two images pixel-by-pixel. If the distance between the raw images are less than a chosen threshold, it may be the same person! \n",
    "\n",
    "<img src=\"images/pixel_comparison.png\" style=\"width:380px;height:150px;\">\n",
    "<caption><center> <u> <font color='purple'> **Figure 1** </u></center></caption>"
   ]
  },
  {
   "cell_type": "markdown",
   "metadata": {
    "collapsed": true
   },
   "source": [
    "Of course, this algorithm performs really poorly, since the pixel values change dramatically due to variations in lighting, orientation of the person's face, even minor changes in head position, and so on. \n",
    "\n",
    "You'll see that rather than using the raw image, you can learn an encoding $f(img)$ so that element-wise comparisons of this encoding gives more accurate judgements as to whether two pictures are of the same person."
   ]
  },
  {
   "cell_type": "markdown",
   "metadata": {},
   "source": [
    "## 1 - Encoding face images into a 128-dimensional vector \n",
    "\n",
    "### 1.1 - Using an ConvNet  to compute encodings\n",
    "\n",
    "The FaceNet model takes a lot of data and a long time to train. So following common practice in applied deep learning settings, let's just load weights that someone else has already trained. The network architecture follows the Inception model from [Szegedy *et al.*](https://arxiv.org/abs/1409.4842). We have provided an inception network implementation. You can look in the file `inception_blocks.py` to see how it is implemented (do so by going to \"File->Open...\" at the top of the Jupyter notebook).  \n"
   ]
  },
  {
   "cell_type": "markdown",
   "metadata": {},
   "source": [
    "The key things you need to know are:\n",
    "\n",
    "- This network uses 96x96 dimensional RGB images as its input. Specifically, inputs a face image (or batch of $m$ face images) as a tensor of shape $(m, n_C, n_H, n_W) = (m, 3, 96, 96)$ \n",
    "- It outputs a matrix of shape $(m, 128)$ that encodes each input face image into a 128-dimensional vector\n",
    "\n",
    "Run the cell below to create the model for face images."
   ]
  },
  {
   "cell_type": "code",
   "execution_count": 4,
   "metadata": {},
   "outputs": [
    {
     "name": "stderr",
     "output_type": "stream",
     "text": [
      "WARNING: Logging before flag parsing goes to stderr.\n",
      "W0813 12:55:03.699172 4504970688 deprecation_wrapper.py:119] From /Users/yangxuejin/anaconda3/lib/python3.6/site-packages/Keras-2.2.4-py3.6.egg/keras/backend/tensorflow_backend.py:74: The name tf.get_default_graph is deprecated. Please use tf.compat.v1.get_default_graph instead.\n",
      "\n",
      "W0813 12:55:03.726383 4504970688 deprecation_wrapper.py:119] From /Users/yangxuejin/anaconda3/lib/python3.6/site-packages/Keras-2.2.4-py3.6.egg/keras/backend/tensorflow_backend.py:529: The name tf.placeholder is deprecated. Please use tf.compat.v1.placeholder instead.\n",
      "\n",
      "W0813 12:55:03.734587 4504970688 deprecation_wrapper.py:119] From /Users/yangxuejin/anaconda3/lib/python3.6/site-packages/Keras-2.2.4-py3.6.egg/keras/backend/tensorflow_backend.py:4420: The name tf.random_uniform is deprecated. Please use tf.random.uniform instead.\n",
      "\n",
      "W0813 12:55:03.752161 4504970688 deprecation_wrapper.py:119] From /Users/yangxuejin/anaconda3/lib/python3.6/site-packages/Keras-2.2.4-py3.6.egg/keras/backend/tensorflow_backend.py:178: The name tf.get_default_session is deprecated. Please use tf.compat.v1.get_default_session instead.\n",
      "\n",
      "W0813 12:55:03.753619 4504970688 deprecation_wrapper.py:119] From /Users/yangxuejin/anaconda3/lib/python3.6/site-packages/Keras-2.2.4-py3.6.egg/keras/backend/tensorflow_backend.py:185: The name tf.ConfigProto is deprecated. Please use tf.compat.v1.ConfigProto instead.\n",
      "\n",
      "W0813 12:55:04.030997 4504970688 deprecation_wrapper.py:119] From /Users/yangxuejin/anaconda3/lib/python3.6/site-packages/Keras-2.2.4-py3.6.egg/keras/backend/tensorflow_backend.py:4255: The name tf.nn.max_pool is deprecated. Please use tf.nn.max_pool2d instead.\n",
      "\n",
      "W0813 12:55:05.721160 4504970688 deprecation_wrapper.py:119] From /Users/yangxuejin/anaconda3/lib/python3.6/site-packages/Keras-2.2.4-py3.6.egg/keras/backend/tensorflow_backend.py:4259: The name tf.nn.avg_pool is deprecated. Please use tf.nn.avg_pool2d instead.\n",
      "\n"
     ]
    }
   ],
   "source": [
    "FRmodel = faceRecoModel(input_shape=(3, 96, 96))"
   ]
  },
  {
   "cell_type": "code",
   "execution_count": 5,
   "metadata": {},
   "outputs": [
    {
     "name": "stdout",
     "output_type": "stream",
     "text": [
      "Total Params: 3743280\n"
     ]
    }
   ],
   "source": [
    "print(\"Total Params:\", FRmodel.count_params())"
   ]
  },
  {
   "cell_type": "markdown",
   "metadata": {},
   "source": [
    "** Expected Output **\n",
    "<table>\n",
    "<center>\n",
    "Total Params: 3743280\n",
    "</center>\n",
    "</table>\n"
   ]
  },
  {
   "cell_type": "markdown",
   "metadata": {},
   "source": [
    "By using a 128-neuron fully connected layer as its last layer, the model ensures that the output is an encoding vector of size 128. You then use the encodings the compare two face images as follows:\n",
    "\n",
    "<img src=\"images/distance_kiank.png\" style=\"width:680px;height:250px;\">\n",
    "<caption><center> <u> <font color='purple'> **Figure 2**: <br> </u> <font color='purple'> By computing a distance between two encodings and thresholding, you can determine if the two pictures represent the same person</center></caption>\n",
    "\n",
    "So, an encoding is a good one if: \n",
    "- The encodings of two images of the same person are quite similar to each other \n",
    "- The encodings of two images of different persons are very different\n",
    "\n",
    "The triplet loss function formalizes this, and tries to \"push\" the encodings of two images of the same person (Anchor and Positive) closer together, while \"pulling\" the encodings of two images of different persons (Anchor, Negative) further apart. \n",
    "\n",
    "<img src=\"images/triplet_comparison.png\" style=\"width:280px;height:150px;\">\n",
    "<br>\n",
    "<caption><center> <u> <font color='purple'> **Figure 3**: <br> </u> <font color='purple'> In the next part, we will call the pictures from left to right: Anchor (A), Positive (P), Negative (N)  </center></caption>"
   ]
  },
  {
   "cell_type": "markdown",
   "metadata": {},
   "source": [
    "\n",
    "\n",
    "### 1.2 - The Triplet Loss\n",
    "\n",
    "For an image $x$, we denote its encoding $f(x)$, where $f$ is the function computed by the neural network.\n",
    "\n",
    "<img src=\"images/f_x.png\" style=\"width:380px;height:150px;\">\n",
    "\n",
    "<!--\n",
    "We will also add a normalization step at the end of our model so that $\\mid \\mid f(x) \\mid \\mid_2 = 1$ (means the vector of encoding should be of norm 1).\n",
    "!-->\n",
    "\n",
    "Training will use triplets of images $(A, P, N)$:  \n",
    "\n",
    "- A is an \"Anchor\" image--a picture of a person. \n",
    "- P is a \"Positive\" image--a picture of the same person as the Anchor image.\n",
    "- N is a \"Negative\" image--a picture of a different person than the Anchor image.\n",
    "\n",
    "These triplets are picked from our training dataset. We will write $(A^{(i)}, P^{(i)}, N^{(i)})$ to denote the $i$-th training example. \n",
    "\n",
    "You'd like to make sure that an image $A^{(i)}$ of an individual is closer to the Positive $P^{(i)}$ than to the Negative image $N^{(i)}$) by at least a margin $\\alpha$:\n",
    "\n",
    "$$\\mid \\mid f(A^{(i)}) - f(P^{(i)}) \\mid \\mid_2^2 + \\alpha < \\mid \\mid f(A^{(i)}) - f(N^{(i)}) \\mid \\mid_2^2$$\n",
    "\n",
    "You would thus like to minimize the following \"triplet cost\":\n",
    "\n",
    "$$\\mathcal{J} = \\sum^{m}_{i=1} \\large[ \\small \\underbrace{\\mid \\mid f(A^{(i)}) - f(P^{(i)}) \\mid \\mid_2^2}_\\text{(1)} - \\underbrace{\\mid \\mid f(A^{(i)}) - f(N^{(i)}) \\mid \\mid_2^2}_\\text{(2)} + \\alpha \\large ] \\small_+ \\tag{3}$$\n",
    "\n",
    "Here, we are using the notation \"$[z]_+$\" to denote $max(z,0)$.  \n",
    "\n",
    "Notes:\n",
    "- The term (1) is the squared distance between the anchor \"A\" and the positive \"P\" for a given triplet; you want this to be small. \n",
    "- The term (2) is the squared distance between the anchor \"A\" and the negative \"N\" for a given triplet, you want this to be relatively large, so it thus makes sense to have a minus sign preceding it. \n",
    "- $\\alpha$ is called the margin. It is a hyperparameter that you should pick manually. We will use $\\alpha = 0.2$. \n",
    "\n",
    "Most implementations also normalize the encoding vectors  to have norm equal one (i.e., $\\mid \\mid f(img)\\mid \\mid_2$=1); you won't have to worry about that here.\n",
    "\n",
    "**Exercise**: Implement the triplet loss as defined by formula (3). Here are the 4 steps:\n",
    "1. Compute the distance between the encodings of \"anchor\" and \"positive\": $\\mid \\mid f(A^{(i)}) - f(P^{(i)}) \\mid \\mid_2^2$\n",
    "2. Compute the distance between the encodings of \"anchor\" and \"negative\": $\\mid \\mid f(A^{(i)}) - f(N^{(i)}) \\mid \\mid_2^2$\n",
    "3. Compute the formula per training example: $ \\mid \\mid f(A^{(i)}) - f(P^{(i)}) \\mid - \\mid \\mid f(A^{(i)}) - f(N^{(i)}) \\mid \\mid_2^2 + \\alpha$\n",
    "3. Compute the full formula by taking the max with zero and summing over the training examples:\n",
    "$$\\mathcal{J} = \\sum^{m}_{i=1} \\large[ \\small \\mid \\mid f(A^{(i)}) - f(P^{(i)}) \\mid \\mid_2^2 - \\mid \\mid f(A^{(i)}) - f(N^{(i)}) \\mid \\mid_2^2+ \\alpha \\large ] \\small_+ \\tag{3}$$\n",
    "\n",
    "Useful functions: `tf.reduce_sum()`, `tf.square()`, `tf.subtract()`, `tf.add()`, `tf.maximum()`.\n",
    "For steps 1 and 2, you will need to sum over the entries of $\\mid \\mid f(A^{(i)}) - f(P^{(i)}) \\mid \\mid_2^2$ and $\\mid \\mid f(A^{(i)}) - f(N^{(i)}) \\mid \\mid_2^2$ while for step 4 you will need to sum over the training examples."
   ]
  },
  {
   "cell_type": "code",
   "execution_count": 6,
   "metadata": {},
   "outputs": [],
   "source": [
    "# GRADED FUNCTION: triplet_loss\n",
    "\n",
    "def triplet_loss(y_true, y_pred, alpha = 0.2):\n",
    "    \"\"\"\n",
    "    Implementation of the triplet loss as defined by formula (3)\n",
    "    \n",
    "    Arguments:\n",
    "    y_true -- true labels, required when you define a loss in Keras, you don't need it in this function.\n",
    "    y_pred -- python list containing three objects:\n",
    "            anchor -- the encodings for the anchor images, of shape (None, 128)\n",
    "            positive -- the encodings for the positive images, of shape (None, 128)\n",
    "            negative -- the encodings for the negative images, of shape (None, 128)\n",
    "    \n",
    "    Returns:\n",
    "    loss -- real number, value of the loss\n",
    "    \"\"\"\n",
    "    \n",
    "    anchor, positive, negative = y_pred[0], y_pred[1], y_pred[2]\n",
    "    \n",
    "    ### START CODE HERE ### (≈ 4 lines)\n",
    "    # Step 1: Compute the (encoding) distance between the anchor and the positive, you will need to sum over axis=-1\n",
    "    distance_ap = tf.reduce_sum(tf.square(tf.subtract(anchor, positive)), axis = -1)\n",
    "    # Step 2: Compute the (encoding) distance between the anchor and the negative, you will need to sum over axis=-1\n",
    "    distance_an = tf.reduce_sum(tf.square(tf.subtract(anchor, negative)), axis = -1)\n",
    "    # Step 3: subtract the two previous distances and add alpha.\n",
    "    loss = tf.add(tf.subtract(distance_ap, distance_an), alpha)\n",
    "    # Step 4: Take the maximum of basic_loss and 0.0. Sum over the training examples.\n",
    "    loss = tf.reduce_sum(tf.maximum(loss, 0.0))\n",
    "    ### END CODE HERE ###\n",
    "    \n",
    "    return loss"
   ]
  },
  {
   "cell_type": "code",
   "execution_count": 7,
   "metadata": {},
   "outputs": [
    {
     "name": "stdout",
     "output_type": "stream",
     "text": [
      "loss = 528.1427\n"
     ]
    }
   ],
   "source": [
    "with tf.Session() as test:\n",
    "    tf.set_random_seed(1)\n",
    "    y_true = (None, None, None)\n",
    "    y_pred = (tf.random_normal([3, 128], mean=6, stddev=0.1, seed = 1),\n",
    "              tf.random_normal([3, 128], mean=1, stddev=1, seed = 1),\n",
    "              tf.random_normal([3, 128], mean=3, stddev=4, seed = 1))\n",
    "    loss = triplet_loss(y_true, y_pred)\n",
    "    \n",
    "    print(\"loss = \" + str(loss.eval()))"
   ]
  },
  {
   "cell_type": "markdown",
   "metadata": {},
   "source": [
    "**Expected Output**:\n",
    "\n",
    "<table>\n",
    "    <tr>\n",
    "        <td>\n",
    "            **loss**\n",
    "        </td>\n",
    "        <td>\n",
    "           528.143\n",
    "        </td>\n",
    "    </tr>\n",
    "\n",
    "</table>"
   ]
  },
  {
   "cell_type": "markdown",
   "metadata": {},
   "source": [
    "## 2 - Loading the trained model\n",
    "\n",
    "FaceNet is trained by minimizing the triplet loss. But since training requires a lot of data and a lot of computation, we won't train it from scratch here. Instead, we load a previously trained model. Load a model using the following cell; this might take a couple of minutes to run. "
   ]
  },
  {
   "cell_type": "code",
   "execution_count": 8,
   "metadata": {},
   "outputs": [
    {
     "name": "stderr",
     "output_type": "stream",
     "text": [
      "W0813 12:55:17.128688 4504970688 deprecation_wrapper.py:119] From /Users/yangxuejin/anaconda3/lib/python3.6/site-packages/Keras-2.2.4-py3.6.egg/keras/optimizers.py:793: The name tf.train.Optimizer is deprecated. Please use tf.compat.v1.train.Optimizer instead.\n",
      "\n"
     ]
    }
   ],
   "source": [
    "FRmodel.compile(optimizer = 'adam', loss = triplet_loss, metrics = ['accuracy'])\n",
    "load_weights_from_FaceNet(FRmodel)"
   ]
  },
  {
   "cell_type": "markdown",
   "metadata": {},
   "source": [
    "Here're some examples of distances between the encodings between three individuals:\n",
    "\n",
    "<img src=\"images/distance_matrix.png\" style=\"width:380px;height:200px;\">\n",
    "<br>\n",
    "<caption><center> <u> <font color='purple'> **Figure 4**:</u> <br>  <font color='purple'> Example of distance outputs between three individuals' encodings</center></caption>\n",
    "\n",
    "Let's now use this model to perform face verification and face recognition! "
   ]
  },
  {
   "cell_type": "markdown",
   "metadata": {},
   "source": [
    "## 3 - Applying the model"
   ]
  },
  {
   "cell_type": "markdown",
   "metadata": {},
   "source": [
    "Back to the Happy House! Residents are living blissfully since you implemented happiness recognition for the house in an earlier assignment.  \n",
    "\n",
    "However, several issues keep coming up: The Happy House became so happy that every happy person in the neighborhood is coming to hang out in your living room. It is getting really crowded, which is having a negative impact on the residents of the house. All these random happy people are also eating all your food. \n",
    "\n",
    "So, you decide to change the door entry policy, and not just let random happy people enter anymore, even if they are happy! Instead, you'd like to build a **Face verification** system so as to only let people from a specified list come in. To get admitted, each person has to swipe an ID card (identification card) to identify themselves at the door. The face recognition system then checks that they are who they claim to be. "
   ]
  },
  {
   "cell_type": "markdown",
   "metadata": {},
   "source": [
    "### 3.1 - Face Verification\n",
    "\n",
    "Let's build a database containing one encoding vector for each person allowed to enter the happy house. To generate the encoding we use `img_to_encoding(image_path, model)` which basically runs the forward propagation of the model on the specified image. \n",
    "\n",
    "Run the following code to build the database (represented as a python dictionary). This database maps each person's name to a 128-dimensional encoding of their face."
   ]
  },
  {
   "cell_type": "code",
   "execution_count": 9,
   "metadata": {},
   "outputs": [],
   "source": [
    "database = {}\n",
    "database[\"danielle\"] = img_to_encoding(\"images/danielle.png\", FRmodel)\n",
    "database[\"younes\"] = img_to_encoding(\"images/younes.jpg\", FRmodel)\n",
    "database[\"tian\"] = img_to_encoding(\"images/tian.jpg\", FRmodel)\n",
    "database[\"andrew\"] = img_to_encoding(\"images/andrew.jpg\", FRmodel)\n",
    "database[\"kian\"] = img_to_encoding(\"images/kian.jpg\", FRmodel)\n",
    "database[\"dan\"] = img_to_encoding(\"images/dan.jpg\", FRmodel)\n",
    "database[\"sebastiano\"] = img_to_encoding(\"images/sebastiano.jpg\", FRmodel)\n",
    "database[\"bertrand\"] = img_to_encoding(\"images/bertrand.jpg\", FRmodel)\n",
    "database[\"kevin\"] = img_to_encoding(\"images/kevin.jpg\", FRmodel)\n",
    "database[\"felix\"] = img_to_encoding(\"images/felix.jpg\", FRmodel)\n",
    "database[\"benoit\"] = img_to_encoding(\"images/benoit.jpg\", FRmodel)\n",
    "database[\"arnaud\"] = img_to_encoding(\"images/arnaud.jpg\", FRmodel)"
   ]
  },
  {
   "cell_type": "markdown",
   "metadata": {},
   "source": [
    "Now, when someone shows up at your front door and swipes their ID card (thus giving you their name), you can look up their encoding in the database, and use it to check if the person standing at the front door matches the name on the ID.\n",
    "\n",
    "**Exercise**: Implement the verify() function which checks if the front-door camera picture (`image_path`) is actually the person called \"identity\". You will have to go through the following steps:\n",
    "1. Compute the encoding of the image from image_path\n",
    "2. Compute the distance about this encoding and the encoding of the identity image stored in the database\n",
    "3. Open the door if the distance is less than 0.7, else do not open.\n",
    "\n",
    "As presented above, you should use the L2 distance (np.linalg.norm). (Note: In this implementation, compare the L2 distance, not the square of the L2 distance, to the threshold 0.7.) "
   ]
  },
  {
   "cell_type": "code",
   "execution_count": 10,
   "metadata": {},
   "outputs": [],
   "source": [
    "# GRADED FUNCTION: verify\n",
    "\n",
    "def verify(image_path, identity, database, model):\n",
    "    \"\"\"\n",
    "    Function that verifies if the person on the \"image_path\" image is \"identity\".\n",
    "    \n",
    "    Arguments:\n",
    "    image_path -- path to an image\n",
    "    identity -- string, name of the person you'd like to verify the identity. Has to be a resident of the Happy house.\n",
    "    database -- python dictionary mapping names of allowed people's names (strings) to their encodings (vectors).\n",
    "    model -- your Inception model instance in Keras\n",
    "    \n",
    "    Returns:\n",
    "    dist -- distance between the image_path and the image of \"identity\" in the database.\n",
    "    door_open -- True, if the door should open. False otherwise.\n",
    "    \"\"\"\n",
    "    \n",
    "    ### START CODE HERE ###\n",
    "    \n",
    "    # Step 1: Compute the encoding for the image. Use img_to_encoding() see example above. (≈ 1 line)\n",
    "    encoding = img_to_encoding(image_path, model)\n",
    "    \n",
    "    # Step 2: Compute distance with identity's image (≈ 1 line)\n",
    "    dist = np.linalg.norm(database[identity] - encoding)\n",
    "    \n",
    "    # Step 3: Open the door if dist < 0.7, else don't open (≈ 3 lines)\n",
    "    door_open = (dist < 0.7)\n",
    "    if door_open:\n",
    "        print(\"It is \" + identity + \", welcome home!\")\n",
    "    else:\n",
    "        print(\"It is not \" + identity + \", sorry\")\n",
    "    ### END CODE HERE ###\n",
    "        \n",
    "    return dist, door_open"
   ]
  },
  {
   "cell_type": "markdown",
   "metadata": {},
   "source": [
    "Younes is trying to enter the Happy House and the camera takes a picture of him (\"images/camera_0.jpg\"). Let's run your verification algorithm on this picture:\n",
    "\n",
    "<img src=\"images/camera_0.jpg\" style=\"width:100px;height:100px;\">"
   ]
  },
  {
   "cell_type": "code",
   "execution_count": 11,
   "metadata": {},
   "outputs": [
    {
     "name": "stdout",
     "output_type": "stream",
     "text": [
      "It is younes, welcome home!\n"
     ]
    },
    {
     "data": {
      "text/plain": [
       "(0.67100716, True)"
      ]
     },
     "execution_count": 11,
     "metadata": {},
     "output_type": "execute_result"
    }
   ],
   "source": [
    "verify(\"images/camera_0.jpg\", \"younes\", database, FRmodel)"
   ]
  },
  {
   "cell_type": "markdown",
   "metadata": {
    "collapsed": true
   },
   "source": [
    "**Expected Output**:\n",
    "\n",
    "<table>\n",
    "    <tr>\n",
    "        <td>\n",
    "            **It's younes, welcome home!**\n",
    "        </td>\n",
    "        <td>\n",
    "           (0.65939283, True)\n",
    "        </td>\n",
    "    </tr>\n",
    "\n",
    "</table>"
   ]
  },
  {
   "cell_type": "markdown",
   "metadata": {
    "collapsed": true
   },
   "source": [
    "Benoit, who broke the aquarium last weekend, has been banned from the house and removed from the database. He stole Kian's ID card and came back to the house to try to present himself as Kian. The front-door camera took a picture of Benoit (\"images/camera_2.jpg). Let's run the verification algorithm to check if benoit can enter.\n",
    "<img src=\"images/camera_2.jpg\" style=\"width:100px;height:100px;\">"
   ]
  },
  {
   "cell_type": "code",
   "execution_count": 16,
   "metadata": {},
   "outputs": [
    {
     "name": "stdout",
     "output_type": "stream",
     "text": [
      "It is not kian, sorry\n",
      "dict_items([('danielle', array([[ 0.11276136,  0.03207599,  0.13590078,  0.11822373,  0.07636504,\n",
      "         0.1343198 ,  0.14880925, -0.13990858, -0.01258986, -0.06264793,\n",
      "        -0.06895617,  0.05656985, -0.00625049,  0.00522545,  0.07190294,\n",
      "        -0.05568046,  0.04310029,  0.04391426, -0.04496383, -0.04642427,\n",
      "        -0.00843197,  0.12305692, -0.09556344,  0.17989585,  0.01794837,\n",
      "        -0.1026075 , -0.14342982, -0.03599939, -0.04165838,  0.13982916,\n",
      "        -0.04188623,  0.11941332, -0.12171148,  0.05106766,  0.08596221,\n",
      "        -0.0546562 ,  0.08568989, -0.06256218,  0.00192187, -0.0396705 ,\n",
      "         0.10942444,  0.00864267,  0.06470732, -0.19549355, -0.03102051,\n",
      "         0.05460498,  0.00480913, -0.02807494, -0.02172419, -0.03455145,\n",
      "         0.1504541 , -0.07591701,  0.16888483,  0.0182783 ,  0.10440765,\n",
      "         0.02885917, -0.00706914,  0.07838195,  0.01713119,  0.01476888,\n",
      "         0.01493396,  0.11768676, -0.09003264, -0.18028452,  0.06014771,\n",
      "         0.08900279,  0.06730755, -0.07218445, -0.1783027 , -0.01774518,\n",
      "         0.01251061,  0.04428384,  0.00113508, -0.01007598,  0.00903066,\n",
      "         0.14183907,  0.02696192, -0.09450617,  0.05239275,  0.00276202,\n",
      "         0.10743004,  0.1009606 ,  0.02834626, -0.02422231,  0.09584815,\n",
      "        -0.04698132,  0.00972352, -0.055695  , -0.18729007,  0.13399342,\n",
      "         0.01954549, -0.04999195,  0.082536  ,  0.05580701, -0.17049026,\n",
      "         0.06091604,  0.05819913, -0.067729  ,  0.14484572,  0.06185562,\n",
      "         0.13640864,  0.06831188, -0.01017161,  0.06564531, -0.10523935,\n",
      "        -0.04865946,  0.00053388, -0.06757926, -0.1512183 ,  0.1015468 ,\n",
      "         0.08557727, -0.01880001,  0.04089972, -0.0951538 , -0.04399643,\n",
      "         0.03859759, -0.17101021,  0.10744184, -0.19870934, -0.00651663,\n",
      "         0.0278137 , -0.02077378, -0.01132974, -0.08182196,  0.06889155,\n",
      "         0.1628406 , -0.05861039, -0.14208525]], dtype=float32)), ('younes', array([[-0.0056317 ,  0.10715906, -0.05515558, -0.00478422,  0.0324033 ,\n",
      "         0.20990944,  0.01809625, -0.1418963 , -0.14073743,  0.02168201,\n",
      "         0.06443149,  0.05177437,  0.02156897, -0.01372572,  0.00871928,\n",
      "        -0.01074401, -0.07531203,  0.0055195 ,  0.08253255,  0.01054658,\n",
      "         0.00818049, -0.02160647, -0.03249231,  0.05146686,  0.01509612,\n",
      "         0.07073577, -0.06768519, -0.12560326,  0.09807827,  0.08755114,\n",
      "         0.00836923,  0.04884156, -0.10218874, -0.05039885,  0.04581832,\n",
      "         0.09456462, -0.06883411, -0.02727051,  0.10292939,  0.05318859,\n",
      "         0.03370076, -0.05037945, -0.10028928, -0.07466099, -0.05644869,\n",
      "         0.08060142,  0.13104643, -0.01481888, -0.22068708, -0.13061896,\n",
      "        -0.06315317,  0.03210923,  0.07716402, -0.04759022, -0.01179576,\n",
      "         0.09806981, -0.02733084,  0.220649  , -0.14786954,  0.06176579,\n",
      "        -0.07890142,  0.1400627 ,  0.2550925 , -0.19116625,  0.16917719,\n",
      "         0.12167712,  0.04028941, -0.00492787, -0.13717528,  0.02689596,\n",
      "         0.00891457,  0.08615278, -0.06964687,  0.02324596,  0.09124873,\n",
      "         0.05605259, -0.03195265, -0.06038063,  0.01273645,  0.00572114,\n",
      "        -0.04128501,  0.03667633, -0.04016561, -0.03124912, -0.12678877,\n",
      "         0.02240947,  0.01874812, -0.06489608, -0.08308964,  0.01192744,\n",
      "         0.08984622, -0.03764096,  0.05694149,  0.14687717,  0.00226387,\n",
      "        -0.03653695,  0.04790146,  0.00605697,  0.08543358,  0.05504426,\n",
      "         0.0070216 , -0.00352729, -0.13054843, -0.01085728, -0.09041048,\n",
      "         0.20110586,  0.06799842, -0.00174231, -0.07710203, -0.01001239,\n",
      "         0.0615026 ,  0.0210497 ,  0.05656205, -0.08665203,  0.03883447,\n",
      "         0.06428715, -0.19917071,  0.04787438,  0.03660136,  0.07231403,\n",
      "        -0.00605755, -0.20452444, -0.01097507, -0.05435604, -0.02511233,\n",
      "         0.27276713, -0.06673464, -0.05516882]], dtype=float32)), ('tian', array([[ 0.0959584 ,  0.04985312,  0.10651765,  0.1157103 ,  0.13681373,\n",
      "         0.18608074,  0.140055  , -0.10926021,  0.01872355, -0.06331696,\n",
      "        -0.06204367,  0.05466767,  0.02865269,  0.00248115,  0.11283265,\n",
      "        -0.05270758,  0.05291302,  0.07012396, -0.10958159,  0.0146503 ,\n",
      "         0.0117181 ,  0.05346061,  0.04002672,  0.18946871,  0.0412819 ,\n",
      "        -0.20998393, -0.16843952, -0.05955722, -0.04289397,  0.07861041,\n",
      "         0.07125298,  0.13135672, -0.09748337,  0.12935269,  0.03672199,\n",
      "        -0.01074995,  0.10086963,  0.00816253, -0.04230203, -0.03034977,\n",
      "         0.13557264,  0.01277892,  0.05787139, -0.19190618, -0.12180477,\n",
      "        -0.07851402,  0.003192  ,  0.02082619,  0.02279431,  0.06520668,\n",
      "         0.10927526, -0.14072698,  0.08944912,  0.00400109,  0.07338609,\n",
      "         0.0458586 , -0.02479623,  0.11365236,  0.00805297, -0.0095521 ,\n",
      "        -0.08589047,  0.12223679, -0.05246711, -0.31436276,  0.1057924 ,\n",
      "         0.09632069,  0.05157844, -0.07394309, -0.26784113,  0.05522594,\n",
      "        -0.00180445,  0.11769011, -0.01190619,  0.0651575 , -0.00638413,\n",
      "         0.08521027,  0.08004492, -0.08223654,  0.04531536, -0.03005515,\n",
      "         0.01512367,  0.06601491,  0.01755634, -0.02023391,  0.07192097,\n",
      "        -0.03858083,  0.00286674, -0.01929285, -0.13027473,  0.10597109,\n",
      "         0.07494822, -0.11774062,  0.09238421,  0.00793599, -0.06812253,\n",
      "         0.02498503, -0.0152481 , -0.00616479,  0.05843051,  0.09109155,\n",
      "         0.07100708,  0.00154545, -0.04580435,  0.12697351, -0.06535158,\n",
      "        -0.00428118, -0.02517835, -0.09205284, -0.07862606,  0.06833029,\n",
      "        -0.00937785,  0.06804062,  0.07454986, -0.00070201, -0.01900145,\n",
      "        -0.000356  , -0.08317939,  0.10539123, -0.12647764,  0.10591163,\n",
      "         0.05556661,  0.02230784, -0.04768838,  0.01567738,  0.01917296,\n",
      "         0.10276744, -0.06845051, -0.12719114]], dtype=float32)), ('andrew', array([[ 0.16171883, -0.06429513,  0.00443487, -0.04332652,  0.09410333,\n",
      "         0.20604041,  0.12351529,  0.02807731, -0.12984526, -0.11218409,\n",
      "        -0.03205966,  0.04320241,  0.14522204,  0.03820303,  0.07961619,\n",
      "        -0.11196748,  0.01358671, -0.02646639, -0.06273323,  0.13338694,\n",
      "         0.0771893 ,  0.06114239,  0.01063543,  0.15411624, -0.08281886,\n",
      "        -0.07181329, -0.14710326, -0.15524368, -0.00309762,  0.07302269,\n",
      "        -0.04155497,  0.03806789, -0.1413827 ,  0.07409277,  0.03066251,\n",
      "         0.02666255,  0.01455293,  0.09548075, -0.03978511, -0.0263004 ,\n",
      "         0.08924686,  0.03248794, -0.10173335, -0.07964788, -0.15787244,\n",
      "         0.01597786,  0.03515661,  0.03905123, -0.08353543,  0.04297233,\n",
      "        -0.03835952, -0.11933363,  0.08432785,  0.07799093,  0.088213  ,\n",
      "        -0.01673318, -0.00902636,  0.17609334, -0.0401235 , -0.08707069,\n",
      "        -0.0335001 ,  0.15846443,  0.07485377, -0.17620133,  0.02564063,\n",
      "         0.02193721,  0.11411674,  0.0399798 , -0.09359086, -0.12290367,\n",
      "         0.03740771,  0.05571841,  0.00039783, -0.00635484,  0.0109488 ,\n",
      "         0.09289048, -0.04670563, -0.09947713,  0.15539806,  0.11285987,\n",
      "         0.04123909,  0.01592612, -0.01702493, -0.0880538 ,  0.03257469,\n",
      "        -0.00095945,  0.10014434,  0.01595075, -0.07900916,  0.03400004,\n",
      "         0.15436788, -0.11040428,  0.07291245,  0.06169304, -0.17872396,\n",
      "        -0.07855074,  0.04683763,  0.00149217,  0.03494341,  0.02563254,\n",
      "         0.11416774,  0.0703256 , -0.05480688,  0.09558047, -0.1729546 ,\n",
      "         0.06062415, -0.07756487,  0.0034853 , -0.10397609,  0.03888359,\n",
      "         0.10847608,  0.07505036, -0.06137345, -0.04571377, -0.06627692,\n",
      "         0.129018  , -0.18920912, -0.01839795, -0.16946013,  0.05602991,\n",
      "        -0.0709502 , -0.08992586, -0.00948514,  0.02117268, -0.03107303,\n",
      "         0.11228006, -0.12070146, -0.09386702]], dtype=float32)), ('kian', array([[ 0.0413801 ,  0.03720583,  0.12215676, -0.0462596 ,  0.06207288,\n",
      "         0.05484788, -0.04787124, -0.01818446, -0.09826694, -0.10381529,\n",
      "         0.03486713, -0.01340012,  0.06701586,  0.11438425,  0.17174982,\n",
      "        -0.09283013,  0.09605062, -0.10172965,  0.00926879,  0.17672956,\n",
      "        -0.00340713,  0.04803991, -0.00369292,  0.12507519,  0.00122703,\n",
      "         0.0195676 , -0.10772388, -0.01797571,  0.0530732 , -0.02726733,\n",
      "         0.0389263 , -0.05804515,  0.01524431,  0.06000484,  0.01426363,\n",
      "         0.14869076,  0.08779852,  0.14908747,  0.0138314 , -0.00493019,\n",
      "         0.06001317,  0.08527921, -0.06587331, -0.17518114, -0.05574745,\n",
      "         0.13170372,  0.08444592, -0.01498001, -0.10943567, -0.01062807,\n",
      "        -0.18725282, -0.0161253 ,  0.07661472,  0.05518566,  0.06071233,\n",
      "         0.00452897, -0.08317988,  0.10268755, -0.10937058, -0.05811768,\n",
      "        -0.08315045,  0.13533129,  0.02582127, -0.12520462, -0.01079917,\n",
      "         0.1760487 ,  0.13462259,  0.09384352, -0.04723527, -0.10123221,\n",
      "         0.08724304, -0.01759803, -0.02473127, -0.00148049,  0.19337672,\n",
      "         0.07449646, -0.08924515, -0.03825575,  0.1574014 ,  0.05174762,\n",
      "        -0.05994656,  0.12756848, -0.01451543, -0.05464194,  0.05663491,\n",
      "         0.03806904,  0.02342278,  0.05305566, -0.04674052,  0.06598574,\n",
      "         0.15316203, -0.07193279,  0.15186566,  0.14059615, -0.08492141,\n",
      "        -0.15065596, -0.00601275, -0.02401089,  0.01038308, -0.08155894,\n",
      "        -0.07024905, -0.00675141, -0.06415735,  0.00240159, -0.18373792,\n",
      "         0.21181422,  0.01410937, -0.04978156,  0.02769243, -0.04809283,\n",
      "         0.0919812 ,  0.05285048, -0.06856809,  0.02713775, -0.03166638,\n",
      "         0.02502417, -0.23851846, -0.12116169, -0.11799249,  0.02401469,\n",
      "        -0.03937627,  0.00956966, -0.05467555,  0.0853627 , -0.02072398,\n",
      "         0.13093586,  0.01622071, -0.0769202 ]], dtype=float32)), ('dan', array([[ 9.18017849e-02,  4.67635877e-02, -1.15665682e-01,\n",
      "        -8.26387852e-02,  1.70875087e-01,  1.86377868e-01,\n",
      "         9.50442776e-02,  2.09002327e-02, -4.08476703e-02,\n",
      "         2.89853918e-03,  4.95019592e-02,  5.77746779e-02,\n",
      "         1.40599728e-01,  2.24475823e-02,  5.68062551e-02,\n",
      "        -4.63566259e-02,  1.35473358e-02, -3.06687839e-02,\n",
      "        -9.97141525e-02,  1.95626900e-01,  6.26222640e-02,\n",
      "        -4.54406487e-03,  8.16328749e-02,  2.33130101e-02,\n",
      "        -9.10259858e-02, -8.27488303e-02, -1.44213527e-01,\n",
      "        -1.02922820e-01,  1.09905966e-01,  5.19807935e-02,\n",
      "         2.22368948e-02,  3.98927815e-02, -4.40742932e-02,\n",
      "         4.88006473e-02, -2.14595273e-02,  1.04448408e-01,\n",
      "         1.16831586e-02,  1.41648322e-01, -3.53239365e-02,\n",
      "        -1.88362304e-04,  3.61260101e-02,  5.04826345e-02,\n",
      "        -1.41344815e-01, -6.04353957e-02, -2.05565929e-01,\n",
      "         1.69971585e-02,  4.24099565e-02,  9.00459737e-02,\n",
      "        -6.55467957e-02,  6.56983480e-02, -1.55555680e-01,\n",
      "         4.29709395e-03, -8.71943459e-02,  2.46150382e-02,\n",
      "         1.81143004e-02,  5.09732077e-03, -6.28339052e-02,\n",
      "         1.68767005e-01, -1.66086689e-01,  1.80561449e-02,\n",
      "        -1.55236468e-01,  7.11029470e-02,  2.29622141e-01,\n",
      "        -2.41752982e-01,  7.80267939e-02, -2.61711259e-03,\n",
      "         3.89639549e-02,  1.23010658e-01, -1.16077937e-01,\n",
      "        -2.60925572e-02,  1.05179995e-01,  1.23494886e-01,\n",
      "        -3.72735858e-02,  4.50924262e-02,  2.26916168e-02,\n",
      "         8.12114030e-02, -6.84446795e-03, -1.01189017e-02,\n",
      "         6.70582056e-02, -3.31183746e-02, -5.42271622e-02,\n",
      "         3.23807709e-02, -5.51627241e-02,  2.30219383e-02,\n",
      "        -4.60599130e-03,  4.62812409e-02,  4.95850034e-02,\n",
      "         5.77686243e-02,  4.85472046e-02,  3.03590223e-02,\n",
      "         1.68133751e-01, -1.58677474e-01, -3.84573988e-03,\n",
      "         8.26609582e-02,  1.98409278e-02, -1.78963065e-01,\n",
      "        -2.43668184e-02, -2.36934749e-03, -2.79465299e-02,\n",
      "         2.71653906e-02,  2.56202668e-02, -4.01472338e-02,\n",
      "        -9.27544236e-02,  3.02601568e-02, -1.78051516e-01,\n",
      "         1.86690703e-01, -4.48055826e-02, -1.39250038e-02,\n",
      "         4.82366458e-02,  2.12267209e-02,  2.18404289e-02,\n",
      "         9.03122798e-02, -1.38195502e-02,  6.87310323e-02,\n",
      "         1.60337444e-02,  7.49857724e-02, -1.01049893e-01,\n",
      "        -2.56969240e-02, -3.38889025e-02,  1.51536539e-01,\n",
      "        -4.35890630e-02, -5.83866313e-02,  8.10077786e-03,\n",
      "         1.44088775e-01, -6.78801611e-02,  1.00133084e-01,\n",
      "        -7.02595264e-02, -5.54994494e-02]], dtype=float32)), ('sebastiano', array([[ 0.07828134, -0.03359278,  0.02057658, -0.06886741,  0.11912459,\n",
      "         0.16225761,  0.09999833,  0.0443929 , -0.08984374, -0.07726765,\n",
      "        -0.02595233,  0.08259773,  0.11241872,  0.02402176,  0.07558805,\n",
      "        -0.11585612, -0.02120974, -0.09199958, -0.08998609,  0.1849232 ,\n",
      "         0.03808698, -0.00973712,  0.04750599,  0.14490718, -0.09497247,\n",
      "        -0.08423803, -0.13703957, -0.07751164,  0.01591959,  0.00292023,\n",
      "        -0.01290482, -0.05365387, -0.08288348,  0.09002318, -0.03987383,\n",
      "         0.08221363, -0.00994298,  0.12024328, -0.09879883,  0.01863588,\n",
      "         0.07579712,  0.0448215 , -0.11321458, -0.11102249, -0.13141179,\n",
      "         0.03183121,  0.04309895,  0.04850394, -0.07680553,  0.11536629,\n",
      "        -0.12587896, -0.08673721, -0.01194354,  0.04800123,  0.09956308,\n",
      "         0.00679576, -0.08128104,  0.2127258 , -0.12539844, -0.01539521,\n",
      "        -0.0757845 ,  0.17378557,  0.1405301 , -0.17790908,  0.04952851,\n",
      "         0.0486683 ,  0.06671106,  0.07332607, -0.13684568, -0.063711  ,\n",
      "         0.06634907,  0.0816972 , -0.02129238,  0.08511074,  0.07485822,\n",
      "         0.11973014,  0.00671362, -0.04942478,  0.16656585,  0.03250914,\n",
      "        -0.05071665,  0.00025868, -0.02187688, -0.02734905, -0.02203505,\n",
      "        -0.00198235,  0.07828295,  0.06620938, -0.00607633,  0.06052478,\n",
      "         0.17377588, -0.13925767,  0.10401033,  0.0936563 , -0.07667372,\n",
      "        -0.10538725,  0.00695946, -0.05819648,  0.02532522,  0.01311697,\n",
      "         0.02889681, -0.00113844, -0.11815558,  0.03376722, -0.17275983,\n",
      "         0.1551244 , -0.08998127, -0.02007809, -0.04859114,  0.00271816,\n",
      "         0.09978541,  0.1153065 , -0.00099471,  0.03245863, -0.03098944,\n",
      "         0.11936758, -0.12645279, -0.00078882, -0.09818996,  0.14307462,\n",
      "        -0.06224172, -0.04888947, -0.04405491,  0.0822191 , -0.08830047,\n",
      "         0.14208443, -0.09856179, -0.110015  ]], dtype=float32)), ('bertrand', array([[ 0.04879405,  0.06864937, -0.08562846, -0.09148456,  0.16402309,\n",
      "         0.19061722,  0.09020592, -0.0560813 , -0.00893075, -0.02483215,\n",
      "         0.08451764,  0.09519944,  0.11216368,  0.0035967 , -0.03176523,\n",
      "        -0.0438358 , -0.0477015 ,  0.01283699, -0.13319595,  0.16229843,\n",
      "         0.08930034,  0.01152733, -0.0139739 ,  0.08178594, -0.06670076,\n",
      "        -0.02883855, -0.09120309, -0.048367  ,  0.13368908,  0.09338316,\n",
      "         0.00081904, -0.00848004, -0.07195219,  0.0311594 ,  0.02713252,\n",
      "         0.10648385, -0.01854051,  0.06694929, -0.02417018, -0.01603786,\n",
      "         0.07074847,  0.03356117, -0.04508346,  0.0334815 , -0.16867773,\n",
      "        -0.01927465,  0.08506965,  0.09850604, -0.09124435,  0.02198879,\n",
      "        -0.14037985, -0.0061224 , -0.10989191,  0.01013003,  0.09533487,\n",
      "         0.0348446 , -0.16285066,  0.2278432 , -0.1899012 , -0.01005072,\n",
      "        -0.1468124 ,  0.04066827,  0.30258718, -0.1514877 ,  0.08003742,\n",
      "         0.01423681,  0.01219308,  0.0654884 , -0.11722342,  0.01306253,\n",
      "         0.10163932,  0.09607787, -0.0004041 ,  0.02631496,  0.04481476,\n",
      "         0.07249422, -0.02102085,  0.03291129,  0.05750427, -0.06365728,\n",
      "         0.01756069,  0.09245276, -0.00477825,  0.02372849, -0.06198733,\n",
      "         0.03679575,  0.07136453,  0.08096795,  0.03922782,  0.08448271,\n",
      "         0.16991833, -0.18040319, -0.03309662,  0.07417864,  0.00098597,\n",
      "        -0.15859124, -0.05555329, -0.0116306 ,  0.01277194,  0.00587767,\n",
      "         0.02418889, -0.00062595, -0.07513799, -0.00253117, -0.16852215,\n",
      "         0.21147777, -0.03536618,  0.01671248,  0.01847754, -0.00236949,\n",
      "         0.06684098,  0.07366727, -0.04485386,  0.10286737,  0.02344401,\n",
      "         0.06362591, -0.11414364, -0.0014913 , -0.02919798,  0.12072863,\n",
      "        -0.01094861, -0.07819866,  0.0076319 ,  0.09149267, -0.09883267,\n",
      "         0.15327993, -0.05729217, -0.05433924]], dtype=float32)), ('kevin', array([[ 0.03733902,  0.12586303, -0.10760327, -0.05226068,  0.03799357,\n",
      "         0.12094861, -0.00522125, -0.0727495 , -0.18986431, -0.00348733,\n",
      "        -0.0595204 , -0.06418688,  0.10257186,  0.07740915,  0.12622008,\n",
      "        -0.12239473,  0.02900286, -0.14793825,  0.10811348,  0.1300451 ,\n",
      "        -0.12683861, -0.03618823,  0.01936977, -0.05464377,  0.00534312,\n",
      "         0.00716678, -0.11570005, -0.05948203, -0.01003134,  0.02518591,\n",
      "         0.01584154,  0.01574549, -0.05034354, -0.02841296,  0.04143722,\n",
      "         0.11711007,  0.06280132,  0.05289147,  0.02035242, -0.05608342,\n",
      "         0.047478  , -0.03867314, -0.00922798, -0.06138749, -0.13027479,\n",
      "         0.25572315,  0.12964112,  0.09428973, -0.1343629 ,  0.00042754,\n",
      "        -0.11219044,  0.01769242,  0.11564372,  0.0038326 ,  0.05991912,\n",
      "        -0.02451701, -0.06118494,  0.07724855,  0.027687  , -0.0923787 ,\n",
      "        -0.07555142,  0.17507724,  0.06449585, -0.15198542,  0.03444799,\n",
      "         0.13600692,  0.09068359,  0.09120168, -0.04587593, -0.14569303,\n",
      "         0.05130335,  0.02973675, -0.01474415, -0.00488395,  0.14164539,\n",
      "         0.09514677, -0.07289067, -0.06996366,  0.14658241,  0.12664184,\n",
      "        -0.0054796 , -0.04730783, -0.06741507, -0.0085443 ,  0.01664877,\n",
      "         0.01184089, -0.03876745, -0.01375714,  0.0241942 ,  0.03739737,\n",
      "         0.07420526, -0.01899723,  0.13546464,  0.03353994, -0.12490717,\n",
      "        -0.14506117,  0.12188199,  0.06513681,  0.01997839, -0.11717868,\n",
      "        -0.00742506,  0.11271077,  0.03317847, -0.01747106, -0.26047894,\n",
      "         0.15633555, -0.0496326 ,  0.10019688, -0.03378259,  0.10095041,\n",
      "         0.17456056,  0.0112408 , -0.05826299, -0.04014943, -0.12083796,\n",
      "         0.00816421, -0.19160278, -0.0445464 , -0.0391321 ,  0.02616495,\n",
      "        -0.02638724, -0.10600167,  0.02294122,  0.04166977, -0.02088482,\n",
      "         0.04977205, -0.03605641, -0.05868418]], dtype=float32)), ('felix', array([[ 0.11949372,  0.05863745, -0.09366361, -0.0035141 ,  0.03962986,\n",
      "         0.14739287, -0.00285625,  0.00811462, -0.09636533, -0.05613218,\n",
      "        -0.00417231,  0.00444496,  0.15179208, -0.08338241,  0.07609718,\n",
      "        -0.00912828,  0.00836893, -0.14231418, -0.08842618,  0.24773864,\n",
      "         0.02157707, -0.08041641,  0.06467199,  0.05855811, -0.01783994,\n",
      "        -0.02708122, -0.12553914, -0.15865572, -0.04343601,  0.0330346 ,\n",
      "         0.05391119,  0.11805192, -0.03075648,  0.1425576 , -0.05970899,\n",
      "         0.08242162,  0.08379517,  0.14674242, -0.00383165, -0.06108127,\n",
      "         0.03878748, -0.1275942 ,  0.02407892, -0.03719683, -0.08581648,\n",
      "         0.01645881,  0.14338313,  0.07256033, -0.09112574,  0.16932403,\n",
      "        -0.03007818, -0.08360778, -0.00257822,  0.07098578,  0.12783404,\n",
      "        -0.06965116, -0.08443928,  0.02721211,  0.02032682, -0.16196263,\n",
      "        -0.11672316,  0.03589822,  0.07286713, -0.2118881 , -0.01160874,\n",
      "         0.04318082,  0.06723251,  0.05342332, -0.11013328, -0.14397715,\n",
      "        -0.03270704,  0.04046822, -0.07036741,  0.0554637 ,  0.10731823,\n",
      "        -0.00377541,  0.03644734, -0.00679944,  0.10809904,  0.22198121,\n",
      "         0.0140815 , -0.06144143, -0.05014282, -0.0522515 ,  0.01323632,\n",
      "         0.06721245, -0.01137205,  0.02428543,  0.08722469,  0.06619397,\n",
      "         0.07301117, -0.14779547,  0.00067987,  0.06802108, -0.14422539,\n",
      "        -0.03892269,  0.03112966,  0.04246192, -0.02141696, -0.09228087,\n",
      "        -0.01342188, -0.00547912, -0.05736731,  0.13770285, -0.17116657,\n",
      "         0.11259804, -0.1309857 ,  0.14410834, -0.00528998,  0.01423915,\n",
      "         0.0071974 ,  0.16439837, -0.10697184,  0.02596514, -0.03944249,\n",
      "         0.00431043, -0.10796656, -0.0713073 , -0.0465959 ,  0.13714114,\n",
      "         0.00618889,  0.0386745 ,  0.12162422,  0.14792137, -0.00484136,\n",
      "        -0.04349272,  0.03713919, -0.07835394]], dtype=float32)), ('benoit', array([[ 0.09243003,  0.04693269,  0.07296483, -0.03033424,  0.14785801,\n",
      "         0.2021773 ,  0.10486778, -0.02706512, -0.0756698 , -0.04210039,\n",
      "        -0.05007257,  0.03773127,  0.11681956,  0.05706988,  0.1060157 ,\n",
      "        -0.08842214,  0.01634506, -0.01168144, -0.11106667,  0.1378415 ,\n",
      "         0.04968761,  0.03780508,  0.0260336 ,  0.10615985, -0.0600488 ,\n",
      "        -0.13476038, -0.22497153, -0.03273955,  0.04393978,  0.06292823,\n",
      "        -0.0078523 ,  0.05424109, -0.0799161 ,  0.09296065,  0.03052376,\n",
      "         0.06932203,  0.05338972,  0.08221263, -0.04439095, -0.05608138,\n",
      "         0.06410563,  0.01892403, -0.03616703, -0.19882402, -0.12781805,\n",
      "         0.04389186,  0.0215033 ,  0.09182575, -0.06879219,  0.0829456 ,\n",
      "        -0.04916253, -0.03531942,  0.03864793,  0.05374991,  0.103847  ,\n",
      "        -0.00337487, -0.03437924,  0.11203073, -0.10384628, -0.03545851,\n",
      "        -0.0691888 ,  0.19047046,  0.0526254 , -0.22171068,  0.05199815,\n",
      "         0.10297738,  0.05193293,  0.06733088, -0.20306863, -0.03122242,\n",
      "         0.07560927,  0.07092028, -0.0272799 ,  0.04379421,  0.04720611,\n",
      "         0.13712089,  0.02312098, -0.0934089 ,  0.17388114,  0.01127698,\n",
      "         0.02323524,  0.0413797 ,  0.00234336,  0.01309572,  0.06169578,\n",
      "        -0.01989448,  0.0233261 ,  0.07155006, -0.01048589,  0.15152799,\n",
      "         0.1502184 , -0.11723252,  0.10456059,  0.13388078, -0.13549292,\n",
      "        -0.0956364 , -0.00186639,  0.0040452 ,  0.01760487,  0.02620755,\n",
      "         0.13434504,  0.04477075, -0.10332414,  0.03469805, -0.14212349,\n",
      "         0.13332793, -0.05825744, -0.05284422, -0.00302034,  0.05023916,\n",
      "         0.06775882,  0.07436921, -0.01302704,  0.03397762, -0.01886178,\n",
      "         0.08391922, -0.13953945,  0.0600319 , -0.14005288,  0.1310742 ,\n",
      "        -0.02118758, -0.06771163, -0.01044505,  0.02867758, -0.04186372,\n",
      "         0.16237377, -0.02901212, -0.12615204]], dtype=float32)), ('arnaud', array([[ 0.06189408,  0.03649766, -0.04000969, -0.08501208,  0.17541634,\n",
      "         0.11691529, -0.00111544, -0.02677756, -0.133826  , -0.10513061,\n",
      "         0.00702216,  0.05260751,  0.10878805,  0.06750929,  0.0151974 ,\n",
      "         0.00033714,  0.06612913, -0.07079469, -0.06682361,  0.23795006,\n",
      "         0.08735707, -0.01576857,  0.09494643,  0.05969072, -0.04154173,\n",
      "         0.01690823, -0.08090731, -0.08825368,  0.11517157,  0.02149181,\n",
      "        -0.00311874,  0.01956461, -0.02159673,  0.05032931, -0.02392416,\n",
      "         0.0883487 ,  0.03349863,  0.21235044, -0.00190921, -0.02084502,\n",
      "         0.04188007,  0.09240562, -0.04527978, -0.09371266, -0.13192227,\n",
      "         0.09016374,  0.13116264,  0.02185333, -0.12470975,  0.01268264,\n",
      "        -0.14715368, -0.03628666, -0.00547645,  0.04686362,  0.07739681,\n",
      "        -0.01054434, -0.01539939,  0.20106965, -0.11963974, -0.07062483,\n",
      "        -0.09453771,  0.11279755,  0.17801563, -0.18304214,  0.09785605,\n",
      "         0.06641415,  0.02722293,  0.10763907, -0.07063728, -0.04916226,\n",
      "         0.05108373,  0.05444637, -0.01714714,  0.01142119,  0.11198591,\n",
      "         0.0828869 , -0.01704651,  0.02485788,  0.09640004, -0.00647412,\n",
      "        -0.04029334,  0.08899464, -0.02557533, -0.01744122, -0.00674838,\n",
      "         0.01787268,  0.0314373 ,  0.12383199, -0.01417176,  0.02022951,\n",
      "         0.15766722, -0.11667156,  0.02855061,  0.11381214,  0.00585596,\n",
      "        -0.13853605,  0.01919912,  0.08050136, -0.00486591, -0.01581431,\n",
      "        -0.03748639, -0.03522416, -0.09693106,  0.11744753, -0.18631262,\n",
      "         0.17386086, -0.04347812,  0.03050618,  0.04546134, -0.08231323,\n",
      "         0.0406758 ,  0.125257  , -0.04590442,  0.10683762,  0.00156364,\n",
      "         0.05628884, -0.24659449, -0.06076218, -0.09634535,  0.09901153,\n",
      "        -0.09269201,  0.01912987, -0.01245737,  0.05009291, -0.0704383 ,\n",
      "         0.14217782, -0.10325783, -0.10755316]], dtype=float32))])\n"
     ]
    }
   ],
   "source": [
    "verify(\"images/camera_2.jpg\", \"kian\", database, FRmodel)\n",
    "print(database.items())"
   ]
  },
  {
   "cell_type": "markdown",
   "metadata": {},
   "source": [
    "**Expected Output**:\n",
    "\n",
    "<table>\n",
    "    <tr>\n",
    "        <td>\n",
    "            **It's not kian, please go away**\n",
    "        </td>\n",
    "        <td>\n",
    "           (0.86224014, False)\n",
    "        </td>\n",
    "    </tr>\n",
    "\n",
    "</table>"
   ]
  },
  {
   "cell_type": "markdown",
   "metadata": {},
   "source": [
    "### 3.2 - Face Recognition\n",
    "\n",
    "Your face verification system is mostly working well. But since Kian got his ID card stolen, when he came back to the house that evening he couldn't get in! \n",
    "\n",
    "To reduce such shenanigans, you'd like to change your face verification system to a face recognition system. This way, no one has to carry an ID card anymore. An authorized person can just walk up to the house, and the front door will unlock for them! \n",
    "\n",
    "You'll implement a face recognition system that takes as input an image, and figures out if it is one of the authorized persons (and if so, who). Unlike the previous face verification system, we will no longer get a person's name as another input. \n",
    "\n",
    "**Exercise**: Implement `who_is_it()`. You will have to go through the following steps:\n",
    "1. Compute the target encoding of the image from image_path\n",
    "2. Find the encoding from the database that has smallest distance with the target encoding. \n",
    "    - Initialize the `min_dist` variable to a large enough number (100). It will help you keep track of what is the closest encoding to the input's encoding.\n",
    "    - Loop over the database dictionary's names and encodings. To loop use `for (name, db_enc) in database.items()`.\n",
    "        - Compute L2 distance between the target \"encoding\" and the current \"encoding\" from the database.\n",
    "        - If this distance is less than the min_dist, then set min_dist to dist, and identity to name."
   ]
  },
  {
   "cell_type": "code",
   "execution_count": 17,
   "metadata": {},
   "outputs": [],
   "source": [
    "# GRADED FUNCTION: who_is_it\n",
    "\n",
    "def who_is_it(image_path, database, model):\n",
    "    \"\"\"\n",
    "    Implements face recognition for the happy house by finding who is the person on the image_path image.\n",
    "    \n",
    "    Arguments:\n",
    "    image_path -- path to an image\n",
    "    database -- database containing image encodings along with the name of the person on the image\n",
    "    model -- your Inception model instance in Keras\n",
    "    \n",
    "    Returns:\n",
    "    min_dist -- the minimum distance between image_path encoding and the encodings from the database\n",
    "    identity -- string, the name prediction for the person on image_path\n",
    "    \"\"\"\n",
    "    \n",
    "    ### START CODE HERE ### \n",
    "    \n",
    "    ## Step 1: Compute the target \"encoding\" for the image. Use img_to_encoding() see example above. ## (≈ 1 line)\n",
    "    encoding = img_to_encoding(image_path, model)\n",
    "    \n",
    "    ## Step 2: Find the closest encoding ##\n",
    "    \n",
    "    # Initialize \"min_dist\" to a large value, say 100 (≈1 line)\n",
    "    min_dist = 100\n",
    "    \n",
    "    # Loop over the database dictionary's names and encodings.\n",
    "    for (name, db_enc) in database.items():\n",
    "        \n",
    "        # Compute L2 distance between the target \"encoding\" and the current \"emb\" from the database. (≈ 1 line)\n",
    "        dist = np.linalg.norm(encoding - db_enc)\n",
    "\n",
    "        # If this distance is less than the min_dist, then set min_dist to dist, and identity to name. (≈ 3 lines)\n",
    "        if dist < min_dist:\n",
    "            min_dist = dist\n",
    "            identity = name\n",
    "\n",
    "    ### END CODE HERE ###\n",
    "    \n",
    "    if min_dist > 0.7:\n",
    "        print(\"Not in the database.\")\n",
    "    else:\n",
    "        print (\"it's \" + str(identity) + \", the distance is \" + str(min_dist))\n",
    "        \n",
    "    return min_dist, identity"
   ]
  },
  {
   "cell_type": "markdown",
   "metadata": {},
   "source": [
    "Younes is at the front-door and the camera takes a picture of him (\"images/camera_0.jpg\"). Let's see if your who_it_is() algorithm identifies Younes. "
   ]
  },
  {
   "cell_type": "code",
   "execution_count": 18,
   "metadata": {
    "scrolled": false
   },
   "outputs": [
    {
     "name": "stdout",
     "output_type": "stream",
     "text": [
      "it's younes, the distance is 0.67100716\n"
     ]
    },
    {
     "data": {
      "text/plain": [
       "(0.67100716, 'younes')"
      ]
     },
     "execution_count": 18,
     "metadata": {},
     "output_type": "execute_result"
    }
   ],
   "source": [
    "who_is_it(\"images/camera_0.jpg\", database, FRmodel)"
   ]
  },
  {
   "cell_type": "markdown",
   "metadata": {},
   "source": [
    "**Expected Output**:\n",
    "\n",
    "<table>\n",
    "    <tr>\n",
    "        <td>\n",
    "            **it's younes, the distance is 0.659393**\n",
    "        </td>\n",
    "        <td>\n",
    "           (0.65939283, 'younes')\n",
    "        </td>\n",
    "    </tr>\n",
    "\n",
    "</table>"
   ]
  },
  {
   "cell_type": "markdown",
   "metadata": {},
   "source": [
    "You can change \"`camera_0.jpg`\" (picture of younes) to \"`camera_1.jpg`\" (picture of bertrand) and see the result."
   ]
  },
  {
   "cell_type": "markdown",
   "metadata": {},
   "source": [
    "Your Happy House is running well. It only lets in authorized persons, and people don't need to carry an ID card around anymore! \n",
    "\n",
    "You've now seen how a state-of-the-art face recognition system works.\n",
    "\n",
    "Although we won't implement it here, here're some ways to further improve the algorithm:\n",
    "- Put more images of each person (under different lighting conditions, taken on different days, etc.) into the database. Then given a new image, compare the new face to multiple pictures of the person. This would increae accuracy.\n",
    "- Crop the images to just contain the face, and less of the \"border\" region around the face. This preprocessing removes some of the irrelevant pixels around the face, and also makes the algorithm more robust.\n"
   ]
  },
  {
   "cell_type": "markdown",
   "metadata": {},
   "source": [
    "<font color='blue'>\n",
    "**What you should remember**:\n",
    "- Face verification solves an easier 1:1 matching problem; face recognition addresses a harder 1:K matching problem. \n",
    "- The triplet loss is an effective loss function for training a neural network to learn an encoding of a face image.\n",
    "- The same encoding can be used for verification and recognition. Measuring distances between two images' encodings allows you to determine whether they are pictures of the same person. "
   ]
  },
  {
   "cell_type": "markdown",
   "metadata": {},
   "source": [
    "Congrats on finishing this assignment! \n"
   ]
  },
  {
   "cell_type": "markdown",
   "metadata": {},
   "source": [
    "### References:\n",
    "\n",
    "- Florian Schroff, Dmitry Kalenichenko, James Philbin (2015). [FaceNet: A Unified Embedding for Face Recognition and Clustering](https://arxiv.org/pdf/1503.03832.pdf)\n",
    "- Yaniv Taigman, Ming Yang, Marc'Aurelio Ranzato, Lior Wolf (2014). [DeepFace: Closing the gap to human-level performance in face verification](https://research.fb.com/wp-content/uploads/2016/11/deepface-closing-the-gap-to-human-level-performance-in-face-verification.pdf) \n",
    "- The pretrained model we use is inspired by Victor Sy Wang's implementation and was loaded using his code: https://github.com/iwantooxxoox/Keras-OpenFace.\n",
    "- Our implementation also took a lot of inspiration from the official FaceNet github repository: https://github.com/davidsandberg/facenet \n"
   ]
  }
 ],
 "metadata": {
  "coursera": {
   "course_slug": "convolutional-neural-networks",
   "graded_item_id": "IaknP",
   "launcher_item_id": "5UMr4"
  },
  "kernelspec": {
   "display_name": "Python 3",
   "language": "python",
   "name": "python3"
  },
  "language_info": {
   "codemirror_mode": {
    "name": "ipython",
    "version": 3
   },
   "file_extension": ".py",
   "mimetype": "text/x-python",
   "name": "python",
   "nbconvert_exporter": "python",
   "pygments_lexer": "ipython3",
   "version": "3.6.4"
  }
 },
 "nbformat": 4,
 "nbformat_minor": 2
}
